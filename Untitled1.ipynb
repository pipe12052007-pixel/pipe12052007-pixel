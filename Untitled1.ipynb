{
  "nbformat": 4,
  "nbformat_minor": 0,
  "metadata": {
    "colab": {
      "provenance": [],
      "authorship_tag": "ABX9TyPRjESocUSOBzmaqt92IbpJ",
      "include_colab_link": true
    },
    "kernelspec": {
      "name": "python3",
      "display_name": "Python 3"
    },
    "language_info": {
      "name": "python"
    }
  },
  "cells": [
    {
      "cell_type": "markdown",
      "metadata": {
        "id": "view-in-github",
        "colab_type": "text"
      },
      "source": [
        "<a href=\"https://colab.research.google.com/github/pipe12052007-pixel/pipe12052007-pixel/blob/main/Untitled1.ipynb\" target=\"_parent\"><img src=\"https://colab.research.google.com/assets/colab-badge.svg\" alt=\"Open In Colab\"/></a>"
      ]
    },
    {
      "cell_type": "code",
      "execution_count": 1,
      "metadata": {
        "colab": {
          "base_uri": "https://localhost:8080/"
        },
        "id": "ExPEsJ6GIQMa",
        "outputId": "11fb74e0-954f-4944-861a-4dff178ccd4a"
      },
      "outputs": [
        {
          "output_type": "stream",
          "name": "stdout",
          "text": [
            "[[12  5]\n",
            " [67 98]]\n"
          ]
        }
      ],
      "source": [
        "import numpy as np\n",
        "# crear una matriz de 2 * 2 con valores quemados\n",
        "matriz = np.array([[12, 5], [67, 98]])\n",
        "print(matriz)"
      ]
    },
    {
      "cell_type": "code",
      "source": [
        "# crear matrices llenos ceros\n",
        "matriz = np.zeros((3, 3))\n",
        "print(matriz)\n",
        "print(\"/033[34m ----------------------- otra dimencion de matrices --------------------\\033[0m\")\n",
        "matriz = np.zeros((2, 7))\n",
        "print(matriz)"
      ],
      "metadata": {
        "colab": {
          "base_uri": "https://localhost:8080/"
        },
        "id": "ouENVRWZI0s1",
        "outputId": "ac9f62d7-ab5e-4ca5-b02f-95c9bf4b86de"
      },
      "execution_count": 2,
      "outputs": [
        {
          "output_type": "stream",
          "name": "stdout",
          "text": [
            "[[0. 0. 0.]\n",
            " [0. 0. 0.]\n",
            " [0. 0. 0.]]\n",
            "/033[34m ----------------------- otra dimencion de matrices --------------------\u001b[0m\n",
            "[[0. 0. 0. 0. 0. 0. 0.]\n",
            " [0. 0. 0. 0. 0. 0. 0.]]\n"
          ]
        }
      ]
    },
    {
      "cell_type": "code",
      "source": [
        "#otra forma para imprimir con colores\n",
        "from rich import print\n",
        "print(\"[green] el color es azul [/green]\")"
      ],
      "metadata": {
        "colab": {
          "base_uri": "https://localhost:8080/",
          "height": 34
        },
        "id": "yUUXLDmBJgg5",
        "outputId": "f209a032-eed7-47f8-e499-cb2136e42ccb"
      },
      "execution_count": 3,
      "outputs": [
        {
          "output_type": "display_data",
          "data": {
            "text/plain": [
              "\u001b[32m el color es azul \u001b[0m\n"
            ],
            "text/html": [
              "<pre style=\"white-space:pre;overflow-x:auto;line-height:normal;font-family:Menlo,'DejaVu Sans Mono',consolas,'Courier New',monospace\"><span style=\"color: #008000; text-decoration-color: #008000\"> el color es azul </span>\n",
              "</pre>\n"
            ]
          },
          "metadata": {}
        }
      ]
    },
    {
      "cell_type": "code",
      "source": [
        "import numpy as np\n",
        "matrizA = ([[2,0,1],[3,0,0],[5,1,1]])\n",
        "matrizB = ([[1,0,1],[1,2,1],[1,1,0]])\n",
        "#productor entre matrices\n",
        "producto = np.dot(matrizA, matrizB)\n",
        "print(f\"[yellow] este es el resultado \\n {producto}[/yellow]\")\n"
      ],
      "metadata": {
        "colab": {
          "base_uri": "https://localhost:8080/",
          "height": 85
        },
        "id": "V1W4dnvQLXpz",
        "outputId": "80831f90-be43-40f2-9e41-e9f1afd30025"
      },
      "execution_count": 7,
      "outputs": [
        {
          "output_type": "display_data",
          "data": {
            "text/plain": [
              "\u001b[33m este es el resultado \u001b[0m\n",
              "\u001b[33m \u001b[0m\u001b[1;33m[\u001b[0m\u001b[1;33m[\u001b[0m\u001b[1;33m3\u001b[0m\u001b[33m \u001b[0m\u001b[1;33m1\u001b[0m\u001b[33m \u001b[0m\u001b[1;33m2\u001b[0m\u001b[1;33m]\u001b[0m\n",
              "\u001b[33m \u001b[0m\u001b[1;33m[\u001b[0m\u001b[1;33m3\u001b[0m\u001b[33m \u001b[0m\u001b[1;33m0\u001b[0m\u001b[33m \u001b[0m\u001b[1;33m3\u001b[0m\u001b[1;33m]\u001b[0m\n",
              "\u001b[33m \u001b[0m\u001b[1;33m[\u001b[0m\u001b[1;33m7\u001b[0m\u001b[33m \u001b[0m\u001b[1;33m3\u001b[0m\u001b[33m \u001b[0m\u001b[1;33m6\u001b[0m\u001b[1;33m]\u001b[0m\u001b[1;33m]\u001b[0m\n"
            ],
            "text/html": [
              "<pre style=\"white-space:pre;overflow-x:auto;line-height:normal;font-family:Menlo,'DejaVu Sans Mono',consolas,'Courier New',monospace\"><span style=\"color: #808000; text-decoration-color: #808000\"> este es el resultado </span>\n",
              "<span style=\"color: #808000; text-decoration-color: #808000\"> </span><span style=\"color: #808000; text-decoration-color: #808000; font-weight: bold\">[[</span><span style=\"color: #808000; text-decoration-color: #808000; font-weight: bold\">3</span><span style=\"color: #808000; text-decoration-color: #808000\"> </span><span style=\"color: #808000; text-decoration-color: #808000; font-weight: bold\">1</span><span style=\"color: #808000; text-decoration-color: #808000\"> </span><span style=\"color: #808000; text-decoration-color: #808000; font-weight: bold\">2</span><span style=\"color: #808000; text-decoration-color: #808000; font-weight: bold\">]</span>\n",
              "<span style=\"color: #808000; text-decoration-color: #808000\"> </span><span style=\"color: #808000; text-decoration-color: #808000; font-weight: bold\">[</span><span style=\"color: #808000; text-decoration-color: #808000; font-weight: bold\">3</span><span style=\"color: #808000; text-decoration-color: #808000\"> </span><span style=\"color: #808000; text-decoration-color: #808000; font-weight: bold\">0</span><span style=\"color: #808000; text-decoration-color: #808000\"> </span><span style=\"color: #808000; text-decoration-color: #808000; font-weight: bold\">3</span><span style=\"color: #808000; text-decoration-color: #808000; font-weight: bold\">]</span>\n",
              "<span style=\"color: #808000; text-decoration-color: #808000\"> </span><span style=\"color: #808000; text-decoration-color: #808000; font-weight: bold\">[</span><span style=\"color: #808000; text-decoration-color: #808000; font-weight: bold\">7</span><span style=\"color: #808000; text-decoration-color: #808000\"> </span><span style=\"color: #808000; text-decoration-color: #808000; font-weight: bold\">3</span><span style=\"color: #808000; text-decoration-color: #808000\"> </span><span style=\"color: #808000; text-decoration-color: #808000; font-weight: bold\">6</span><span style=\"color: #808000; text-decoration-color: #808000; font-weight: bold\">]]</span>\n",
              "</pre>\n"
            ]
          },
          "metadata": {}
        }
      ]
    },
    {
      "cell_type": "code",
      "source": [
        "import numpy as np\n",
        "matrizA = ([[2,0,1],[3,0,0],[5,1,1]])\n",
        "# formula de t\n",
        "MatrizT = np.transpose(matrizA)\n",
        "print(f\"[yellow] este es el resultado \\n {matrizT}[/yellow]\")\n",
        "#otra forma seria\n",
        "print(f\"[pink] este es el resultado \\n {MatrizT}[/pink]\")\n"
      ],
      "metadata": {
        "colab": {
          "base_uri": "https://localhost:8080/",
          "height": 153
        },
        "id": "QBNBc7_GNlvM",
        "outputId": "9fbfc640-08cb-408f-816c-9a060ceab26e"
      },
      "execution_count": 10,
      "outputs": [
        {
          "output_type": "display_data",
          "data": {
            "text/plain": [
              "\u001b[33m este es el resultado \u001b[0m\n",
              "\u001b[33m \u001b[0m\u001b[1;33m[\u001b[0m\u001b[1;33m[\u001b[0m\u001b[1;33m2\u001b[0m\u001b[33m \u001b[0m\u001b[1;33m3\u001b[0m\u001b[33m \u001b[0m\u001b[1;33m5\u001b[0m\u001b[1;33m]\u001b[0m\n",
              "\u001b[33m \u001b[0m\u001b[1;33m[\u001b[0m\u001b[1;33m0\u001b[0m\u001b[33m \u001b[0m\u001b[1;33m0\u001b[0m\u001b[33m \u001b[0m\u001b[1;33m1\u001b[0m\u001b[1;33m]\u001b[0m\n",
              "\u001b[33m \u001b[0m\u001b[1;33m[\u001b[0m\u001b[1;33m1\u001b[0m\u001b[33m \u001b[0m\u001b[1;33m0\u001b[0m\u001b[33m \u001b[0m\u001b[1;33m1\u001b[0m\u001b[1;33m]\u001b[0m\u001b[1;33m]\u001b[0m\n"
            ],
            "text/html": [
              "<pre style=\"white-space:pre;overflow-x:auto;line-height:normal;font-family:Menlo,'DejaVu Sans Mono',consolas,'Courier New',monospace\"><span style=\"color: #808000; text-decoration-color: #808000\"> este es el resultado </span>\n",
              "<span style=\"color: #808000; text-decoration-color: #808000\"> </span><span style=\"color: #808000; text-decoration-color: #808000; font-weight: bold\">[[</span><span style=\"color: #808000; text-decoration-color: #808000; font-weight: bold\">2</span><span style=\"color: #808000; text-decoration-color: #808000\"> </span><span style=\"color: #808000; text-decoration-color: #808000; font-weight: bold\">3</span><span style=\"color: #808000; text-decoration-color: #808000\"> </span><span style=\"color: #808000; text-decoration-color: #808000; font-weight: bold\">5</span><span style=\"color: #808000; text-decoration-color: #808000; font-weight: bold\">]</span>\n",
              "<span style=\"color: #808000; text-decoration-color: #808000\"> </span><span style=\"color: #808000; text-decoration-color: #808000; font-weight: bold\">[</span><span style=\"color: #808000; text-decoration-color: #808000; font-weight: bold\">0</span><span style=\"color: #808000; text-decoration-color: #808000\"> </span><span style=\"color: #808000; text-decoration-color: #808000; font-weight: bold\">0</span><span style=\"color: #808000; text-decoration-color: #808000\"> </span><span style=\"color: #808000; text-decoration-color: #808000; font-weight: bold\">1</span><span style=\"color: #808000; text-decoration-color: #808000; font-weight: bold\">]</span>\n",
              "<span style=\"color: #808000; text-decoration-color: #808000\"> </span><span style=\"color: #808000; text-decoration-color: #808000; font-weight: bold\">[</span><span style=\"color: #808000; text-decoration-color: #808000; font-weight: bold\">1</span><span style=\"color: #808000; text-decoration-color: #808000\"> </span><span style=\"color: #808000; text-decoration-color: #808000; font-weight: bold\">0</span><span style=\"color: #808000; text-decoration-color: #808000\"> </span><span style=\"color: #808000; text-decoration-color: #808000; font-weight: bold\">1</span><span style=\"color: #808000; text-decoration-color: #808000; font-weight: bold\">]]</span>\n",
              "</pre>\n"
            ]
          },
          "metadata": {}
        },
        {
          "output_type": "display_data",
          "data": {
            "text/plain": [
              " este es el resultado \n",
              " \u001b[1m[\u001b[0m\u001b[1m[\u001b[0m\u001b[1;36m2\u001b[0m \u001b[1;36m3\u001b[0m \u001b[1;36m5\u001b[0m\u001b[1m]\u001b[0m\n",
              " \u001b[1m[\u001b[0m\u001b[1;36m0\u001b[0m \u001b[1;36m0\u001b[0m \u001b[1;36m1\u001b[0m\u001b[1m]\u001b[0m\n",
              " \u001b[1m[\u001b[0m\u001b[1;36m1\u001b[0m \u001b[1;36m0\u001b[0m \u001b[1;36m1\u001b[0m\u001b[1m]\u001b[0m\u001b[1m]\u001b[0m\n"
            ],
            "text/html": [
              "<pre style=\"white-space:pre;overflow-x:auto;line-height:normal;font-family:Menlo,'DejaVu Sans Mono',consolas,'Courier New',monospace\"> este es el resultado \n",
              " <span style=\"font-weight: bold\">[[</span><span style=\"color: #008080; text-decoration-color: #008080; font-weight: bold\">2</span> <span style=\"color: #008080; text-decoration-color: #008080; font-weight: bold\">3</span> <span style=\"color: #008080; text-decoration-color: #008080; font-weight: bold\">5</span><span style=\"font-weight: bold\">]</span>\n",
              " <span style=\"font-weight: bold\">[</span><span style=\"color: #008080; text-decoration-color: #008080; font-weight: bold\">0</span> <span style=\"color: #008080; text-decoration-color: #008080; font-weight: bold\">0</span> <span style=\"color: #008080; text-decoration-color: #008080; font-weight: bold\">1</span><span style=\"font-weight: bold\">]</span>\n",
              " <span style=\"font-weight: bold\">[</span><span style=\"color: #008080; text-decoration-color: #008080; font-weight: bold\">1</span> <span style=\"color: #008080; text-decoration-color: #008080; font-weight: bold\">0</span> <span style=\"color: #008080; text-decoration-color: #008080; font-weight: bold\">1</span><span style=\"font-weight: bold\">]]</span>\n",
              "</pre>\n"
            ]
          },
          "metadata": {}
        }
      ]
    },
    {
      "cell_type": "code",
      "source": [
        "import numpy as np\n",
        "matrizA = ([[2,0,1],[3,0,0],[5,1,1]])\n",
        "# formula de T\n",
        "MatrizT = np.transpose(matrizA)\n",
        "print(f\"[yellow] este es el resultado \\n {matrizT}[/yellow]\")\n",
        "#otra forma seria\n",
        "MatrizT = MatrizA.T\n",
        "print(f\"[pink] este es el resultado \\n {MatrizT}[/pink]\")"
      ],
      "metadata": {
        "colab": {
          "base_uri": "https://localhost:8080/",
          "height": 211
        },
        "id": "obWaymTnP2kk",
        "outputId": "af05e20c-3661-4768-9e54-ac53331defc5"
      },
      "execution_count": 13,
      "outputs": [
        {
          "output_type": "error",
          "ename": "NameError",
          "evalue": "name 'MatrizA' is not defined",
          "traceback": [
            "\u001b[0;31m---------------------------------------------------------------------------\u001b[0m",
            "\u001b[0;31mNameError\u001b[0m                                 Traceback (most recent call last)",
            "\u001b[0;32m/tmp/ipython-input-3745881905.py\u001b[0m in \u001b[0;36m<cell line: 0>\u001b[0;34m()\u001b[0m\n\u001b[1;32m      2\u001b[0m \u001b[0mmatrizA\u001b[0m \u001b[0;34m=\u001b[0m \u001b[0;34m(\u001b[0m\u001b[0;34m[\u001b[0m\u001b[0;34m[\u001b[0m\u001b[0;36m2\u001b[0m\u001b[0;34m,\u001b[0m\u001b[0;36m0\u001b[0m\u001b[0;34m,\u001b[0m\u001b[0;36m1\u001b[0m\u001b[0;34m]\u001b[0m\u001b[0;34m,\u001b[0m\u001b[0;34m[\u001b[0m\u001b[0;36m3\u001b[0m\u001b[0;34m,\u001b[0m\u001b[0;36m0\u001b[0m\u001b[0;34m,\u001b[0m\u001b[0;36m0\u001b[0m\u001b[0;34m]\u001b[0m\u001b[0;34m,\u001b[0m\u001b[0;34m[\u001b[0m\u001b[0;36m5\u001b[0m\u001b[0;34m,\u001b[0m\u001b[0;36m1\u001b[0m\u001b[0;34m,\u001b[0m\u001b[0;36m1\u001b[0m\u001b[0;34m]\u001b[0m\u001b[0;34m]\u001b[0m\u001b[0;34m)\u001b[0m\u001b[0;34m\u001b[0m\u001b[0;34m\u001b[0m\u001b[0m\n\u001b[1;32m      3\u001b[0m \u001b[0;31m# formula de T\u001b[0m\u001b[0;34m\u001b[0m\u001b[0;34m\u001b[0m\u001b[0m\n\u001b[0;32m----> 4\u001b[0;31m \u001b[0mMatrizT\u001b[0m \u001b[0;34m=\u001b[0m \u001b[0mnp\u001b[0m\u001b[0;34m.\u001b[0m\u001b[0mtranspose\u001b[0m\u001b[0;34m(\u001b[0m\u001b[0mMatrizA\u001b[0m\u001b[0;34m)\u001b[0m\u001b[0;34m\u001b[0m\u001b[0;34m\u001b[0m\u001b[0m\n\u001b[0m\u001b[1;32m      5\u001b[0m \u001b[0mprint\u001b[0m\u001b[0;34m(\u001b[0m\u001b[0;34mf\"[yellow] este es el resultado \\n {MatrizT}[/yellow]\"\u001b[0m\u001b[0;34m)\u001b[0m\u001b[0;34m\u001b[0m\u001b[0;34m\u001b[0m\u001b[0m\n\u001b[1;32m      6\u001b[0m \u001b[0;31m#otra forma seria\u001b[0m\u001b[0;34m\u001b[0m\u001b[0;34m\u001b[0m\u001b[0m\n",
            "\u001b[0;31mNameError\u001b[0m: name 'MatrizA' is not defined"
          ]
        }
      ]
    },
    {
      "cell_type": "code",
      "source": [
        "#ejemplo de una matriz de 3*3 multiplicado por un escalar\n",
        "import numpy as np\n",
        "\n",
        "matriz=np.array([[2,4,5],[4,5,7],[1,0,9]])\n",
        "escalar=4\n",
        "matriz=matriz*escalar\n",
        "print(MatrizEscalar)\n",
        "#otra forma para manejar escalar\n",
        "producto=np.multiply(matriz,escalar)\n",
        "print(f\"[blue]otra forma de operar \\n {producto}[/blue]\")"
      ],
      "metadata": {
        "colab": {
          "base_uri": "https://localhost:8080/",
          "height": 211
        },
        "id": "nlB079vORvoI",
        "outputId": "68eee2e8-5bd4-40aa-c72f-c7b92e19dd41"
      },
      "execution_count": 16,
      "outputs": [
        {
          "output_type": "error",
          "ename": "NameError",
          "evalue": "name 'MatrizEscalar' is not defined",
          "traceback": [
            "\u001b[0;31m---------------------------------------------------------------------------\u001b[0m",
            "\u001b[0;31mNameError\u001b[0m                                 Traceback (most recent call last)",
            "\u001b[0;32m/tmp/ipython-input-4149120290.py\u001b[0m in \u001b[0;36m<cell line: 0>\u001b[0;34m()\u001b[0m\n\u001b[1;32m      5\u001b[0m \u001b[0mescalar\u001b[0m\u001b[0;34m=\u001b[0m\u001b[0;36m4\u001b[0m\u001b[0;34m\u001b[0m\u001b[0;34m\u001b[0m\u001b[0m\n\u001b[1;32m      6\u001b[0m \u001b[0mmatriz\u001b[0m\u001b[0;34m=\u001b[0m\u001b[0mmatriz\u001b[0m\u001b[0;34m*\u001b[0m\u001b[0mescalar\u001b[0m\u001b[0;34m\u001b[0m\u001b[0;34m\u001b[0m\u001b[0m\n\u001b[0;32m----> 7\u001b[0;31m \u001b[0mprint\u001b[0m\u001b[0;34m(\u001b[0m\u001b[0mMatrizEscalar\u001b[0m\u001b[0;34m)\u001b[0m\u001b[0;34m\u001b[0m\u001b[0;34m\u001b[0m\u001b[0m\n\u001b[0m\u001b[1;32m      8\u001b[0m \u001b[0;31m#otra forma para manejar escalar\u001b[0m\u001b[0;34m\u001b[0m\u001b[0;34m\u001b[0m\u001b[0m\n\u001b[1;32m      9\u001b[0m \u001b[0mproducto\u001b[0m\u001b[0;34m=\u001b[0m\u001b[0mnp\u001b[0m\u001b[0;34m.\u001b[0m\u001b[0mmultiply\u001b[0m\u001b[0;34m(\u001b[0m\u001b[0mmatriz\u001b[0m\u001b[0;34m,\u001b[0m\u001b[0mescalar\u001b[0m\u001b[0;34m)\u001b[0m\u001b[0;34m\u001b[0m\u001b[0;34m\u001b[0m\u001b[0m\n",
            "\u001b[0;31mNameError\u001b[0m: name 'MatrizEscalar' is not defined"
          ]
        }
      ]
    },
    {
      "cell_type": "code",
      "source": [
        "#import numpy as np\n",
        "from rich import print\n",
        "matrizA = ([[2,0,1],[3,0,0],[5,1,1]])\n",
        "#        2-1\n",
        "matrizB = ([[1,0,1],[1,2,1],[1,1,0]])\n",
        "resultadoResto=np.subtract(matrizA,matrizB)\n",
        "print(f\"[yellow] este es el resultado \\n {resultadoResto}[/yellow]\")"
      ],
      "metadata": {
        "colab": {
          "base_uri": "https://localhost:8080/",
          "height": 85
        },
        "id": "KYvE2fF_oLbP",
        "outputId": "61688eab-5f0c-4726-bc03-ed01e5f97418"
      },
      "execution_count": 17,
      "outputs": [
        {
          "output_type": "display_data",
          "data": {
            "text/plain": [
              "\u001b[33m este es el resultado \u001b[0m\n",
              "\u001b[33m \u001b[0m\u001b[1;33m[\u001b[0m\u001b[1;33m[\u001b[0m\u001b[33m \u001b[0m\u001b[1;33m1\u001b[0m\u001b[33m  \u001b[0m\u001b[1;33m0\u001b[0m\u001b[33m  \u001b[0m\u001b[1;33m0\u001b[0m\u001b[1;33m]\u001b[0m\n",
              "\u001b[33m \u001b[0m\u001b[1;33m[\u001b[0m\u001b[33m \u001b[0m\u001b[1;33m2\u001b[0m\u001b[33m \u001b[0m\u001b[1;33m-2\u001b[0m\u001b[33m \u001b[0m\u001b[1;33m-1\u001b[0m\u001b[1;33m]\u001b[0m\n",
              "\u001b[33m \u001b[0m\u001b[1;33m[\u001b[0m\u001b[33m \u001b[0m\u001b[1;33m4\u001b[0m\u001b[33m  \u001b[0m\u001b[1;33m0\u001b[0m\u001b[33m  \u001b[0m\u001b[1;33m1\u001b[0m\u001b[1;33m]\u001b[0m\u001b[1;33m]\u001b[0m\n"
            ],
            "text/html": [
              "<pre style=\"white-space:pre;overflow-x:auto;line-height:normal;font-family:Menlo,'DejaVu Sans Mono',consolas,'Courier New',monospace\"><span style=\"color: #808000; text-decoration-color: #808000\"> este es el resultado </span>\n",
              "<span style=\"color: #808000; text-decoration-color: #808000\"> </span><span style=\"color: #808000; text-decoration-color: #808000; font-weight: bold\">[[</span><span style=\"color: #808000; text-decoration-color: #808000\"> </span><span style=\"color: #808000; text-decoration-color: #808000; font-weight: bold\">1</span><span style=\"color: #808000; text-decoration-color: #808000\">  </span><span style=\"color: #808000; text-decoration-color: #808000; font-weight: bold\">0</span><span style=\"color: #808000; text-decoration-color: #808000\">  </span><span style=\"color: #808000; text-decoration-color: #808000; font-weight: bold\">0</span><span style=\"color: #808000; text-decoration-color: #808000; font-weight: bold\">]</span>\n",
              "<span style=\"color: #808000; text-decoration-color: #808000\"> </span><span style=\"color: #808000; text-decoration-color: #808000; font-weight: bold\">[</span><span style=\"color: #808000; text-decoration-color: #808000\"> </span><span style=\"color: #808000; text-decoration-color: #808000; font-weight: bold\">2</span><span style=\"color: #808000; text-decoration-color: #808000\"> </span><span style=\"color: #808000; text-decoration-color: #808000; font-weight: bold\">-2</span><span style=\"color: #808000; text-decoration-color: #808000\"> </span><span style=\"color: #808000; text-decoration-color: #808000; font-weight: bold\">-1</span><span style=\"color: #808000; text-decoration-color: #808000; font-weight: bold\">]</span>\n",
              "<span style=\"color: #808000; text-decoration-color: #808000\"> </span><span style=\"color: #808000; text-decoration-color: #808000; font-weight: bold\">[</span><span style=\"color: #808000; text-decoration-color: #808000\"> </span><span style=\"color: #808000; text-decoration-color: #808000; font-weight: bold\">4</span><span style=\"color: #808000; text-decoration-color: #808000\">  </span><span style=\"color: #808000; text-decoration-color: #808000; font-weight: bold\">0</span><span style=\"color: #808000; text-decoration-color: #808000\">  </span><span style=\"color: #808000; text-decoration-color: #808000; font-weight: bold\">1</span><span style=\"color: #808000; text-decoration-color: #808000; font-weight: bold\">]]</span>\n",
              "</pre>\n"
            ]
          },
          "metadata": {}
        }
      ]
    },
    {
      "cell_type": "markdown",
      "source": [
        "con ciclos haremos operacion con escalar  "
      ],
      "metadata": {
        "id": "4xltD7B9o7UT"
      }
    },
    {
      "cell_type": "code",
      "source": [
        "import numpy as np\n",
        "# creame de 3*3\n",
        "Matriz=np.array([[2,4,5],[4,5,7],[1,0,9]])\n",
        "escalar=4\n",
        "vector=np.zeros(9)\n",
        "print(vector)\n",
        "# c seria columna\n",
        "# f fila\n",
        "i=0\n",
        "#llenar un vector de 9 pociciones con la matriz de 3*#\n",
        "for f in range(Matriz.shape[0]):\n",
        "    for c in range(Matriz.shape[1]):\n",
        "      a=Matriz[f,c]\n",
        "      vector[i]=a\n",
        "      i=i+1\n",
        "\n",
        "print(vector)\n",
        "# ahora multiplicar con escalar con l matriz\n",
        "tamano=len(vector) #use len(vector) instead\n",
        "print(\"tamano matriz\",tamano)\n",
        "for i in range(tamano):\n",
        "    vector[i]=vector[i]*escalar\n",
        "print(vector)"
      ],
      "metadata": {
        "colab": {
          "base_uri": "https://localhost:8080/",
          "height": 85
        },
        "id": "e9C-NsVVpBkz",
        "outputId": "9d5ad27a-3e4d-4a26-ee2e-c623b48c0a44"
      },
      "execution_count": 36,
      "outputs": [
        {
          "output_type": "display_data",
          "data": {
            "text/plain": [
              "\u001b[1m[\u001b[0m\u001b[1;36m0\u001b[0m. \u001b[1;36m0\u001b[0m. \u001b[1;36m0\u001b[0m. \u001b[1;36m0\u001b[0m. \u001b[1;36m0\u001b[0m. \u001b[1;36m0\u001b[0m. \u001b[1;36m0\u001b[0m. \u001b[1;36m0\u001b[0m. \u001b[1;36m0\u001b[0m.\u001b[1m]\u001b[0m\n"
            ],
            "text/html": [
              "<pre style=\"white-space:pre;overflow-x:auto;line-height:normal;font-family:Menlo,'DejaVu Sans Mono',consolas,'Courier New',monospace\"><span style=\"font-weight: bold\">[</span><span style=\"color: #008080; text-decoration-color: #008080; font-weight: bold\">0</span>. <span style=\"color: #008080; text-decoration-color: #008080; font-weight: bold\">0</span>. <span style=\"color: #008080; text-decoration-color: #008080; font-weight: bold\">0</span>. <span style=\"color: #008080; text-decoration-color: #008080; font-weight: bold\">0</span>. <span style=\"color: #008080; text-decoration-color: #008080; font-weight: bold\">0</span>. <span style=\"color: #008080; text-decoration-color: #008080; font-weight: bold\">0</span>. <span style=\"color: #008080; text-decoration-color: #008080; font-weight: bold\">0</span>. <span style=\"color: #008080; text-decoration-color: #008080; font-weight: bold\">0</span>. <span style=\"color: #008080; text-decoration-color: #008080; font-weight: bold\">0</span>.<span style=\"font-weight: bold\">]</span>\n",
              "</pre>\n"
            ]
          },
          "metadata": {}
        },
        {
          "output_type": "display_data",
          "data": {
            "text/plain": [
              "\u001b[1m[\u001b[0m\u001b[1;36m2\u001b[0m. \u001b[1;36m4\u001b[0m. \u001b[1;36m5\u001b[0m. \u001b[1;36m4\u001b[0m. \u001b[1;36m5\u001b[0m. \u001b[1;36m7\u001b[0m. \u001b[1;36m1\u001b[0m. \u001b[1;36m0\u001b[0m. \u001b[1;36m9\u001b[0m.\u001b[1m]\u001b[0m\n"
            ],
            "text/html": [
              "<pre style=\"white-space:pre;overflow-x:auto;line-height:normal;font-family:Menlo,'DejaVu Sans Mono',consolas,'Courier New',monospace\"><span style=\"font-weight: bold\">[</span><span style=\"color: #008080; text-decoration-color: #008080; font-weight: bold\">2</span>. <span style=\"color: #008080; text-decoration-color: #008080; font-weight: bold\">4</span>. <span style=\"color: #008080; text-decoration-color: #008080; font-weight: bold\">5</span>. <span style=\"color: #008080; text-decoration-color: #008080; font-weight: bold\">4</span>. <span style=\"color: #008080; text-decoration-color: #008080; font-weight: bold\">5</span>. <span style=\"color: #008080; text-decoration-color: #008080; font-weight: bold\">7</span>. <span style=\"color: #008080; text-decoration-color: #008080; font-weight: bold\">1</span>. <span style=\"color: #008080; text-decoration-color: #008080; font-weight: bold\">0</span>. <span style=\"color: #008080; text-decoration-color: #008080; font-weight: bold\">9</span>.<span style=\"font-weight: bold\">]</span>\n",
              "</pre>\n"
            ]
          },
          "metadata": {}
        },
        {
          "output_type": "display_data",
          "data": {
            "text/plain": [
              "tamano matriz \u001b[1;36m9\u001b[0m\n"
            ],
            "text/html": [
              "<pre style=\"white-space:pre;overflow-x:auto;line-height:normal;font-family:Menlo,'DejaVu Sans Mono',consolas,'Courier New',monospace\">tamano matriz <span style=\"color: #008080; text-decoration-color: #008080; font-weight: bold\">9</span>\n",
              "</pre>\n"
            ]
          },
          "metadata": {}
        },
        {
          "output_type": "display_data",
          "data": {
            "text/plain": [
              "\u001b[1m[\u001b[0m \u001b[1;36m8\u001b[0m. \u001b[1;36m16\u001b[0m. \u001b[1;36m20\u001b[0m. \u001b[1;36m16\u001b[0m. \u001b[1;36m20\u001b[0m. \u001b[1;36m28\u001b[0m.  \u001b[1;36m4\u001b[0m.  \u001b[1;36m0\u001b[0m. \u001b[1;36m36\u001b[0m.\u001b[1m]\u001b[0m\n"
            ],
            "text/html": [
              "<pre style=\"white-space:pre;overflow-x:auto;line-height:normal;font-family:Menlo,'DejaVu Sans Mono',consolas,'Courier New',monospace\"><span style=\"font-weight: bold\">[</span> <span style=\"color: #008080; text-decoration-color: #008080; font-weight: bold\">8</span>. <span style=\"color: #008080; text-decoration-color: #008080; font-weight: bold\">16</span>. <span style=\"color: #008080; text-decoration-color: #008080; font-weight: bold\">20</span>. <span style=\"color: #008080; text-decoration-color: #008080; font-weight: bold\">16</span>. <span style=\"color: #008080; text-decoration-color: #008080; font-weight: bold\">20</span>. <span style=\"color: #008080; text-decoration-color: #008080; font-weight: bold\">28</span>.  <span style=\"color: #008080; text-decoration-color: #008080; font-weight: bold\">4</span>.  <span style=\"color: #008080; text-decoration-color: #008080; font-weight: bold\">0</span>. <span style=\"color: #008080; text-decoration-color: #008080; font-weight: bold\">36</span>.<span style=\"font-weight: bold\">]</span>\n",
              "</pre>\n"
            ]
          },
          "metadata": {}
        }
      ]
    },
    {
      "cell_type": "code",
      "source": [
        "#diagonal super , e inferior\n",
        "import numpy as np\n",
        "tamano=4\n",
        "# crearemos una matriz de 4*4 para rellenarlos de ceros\n",
        "matriz=np.zeros((tamano, tamano))\n",
        "print(matriz)\n",
        "# diagonal superior\n",
        "#i = fila\n",
        "#j= columna\n",
        "for f in range(tamano):\n",
        "    for j in range(tamano):\n",
        "        if f>=c:\n",
        "          matriz[f,c]=1\n",
        "print(matriz)\n",
        "#fincion de numpy con diagonal\n",
        "matriz = np.triu(matriz)\n",
        "print(f\"[#8A4236]{matriz}[/#8A4236]\")\n",
        "for f in range(tamano):\n",
        "    for c in range(tamano):\n",
        "        if c<=f:\n",
        "          matriz[f,c]=1\n",
        "print(f\"[#22112E]{matriz}[/#22112E]\")\n",
        "#fincion de numpy con diagonal"
      ],
      "metadata": {
        "colab": {
          "base_uri": "https://localhost:8080/",
          "height": 289
        },
        "id": "0bOoFeOIve6r",
        "outputId": "ab37ebfe-af3a-47e3-9c35-81a32cd65097"
      },
      "execution_count": 45,
      "outputs": [
        {
          "output_type": "display_data",
          "data": {
            "text/plain": [
              "\u001b[1m[\u001b[0m\u001b[1m[\u001b[0m\u001b[1;36m0\u001b[0m. \u001b[1;36m0\u001b[0m. \u001b[1;36m0\u001b[0m. \u001b[1;36m0\u001b[0m.\u001b[1m]\u001b[0m\n",
              " \u001b[1m[\u001b[0m\u001b[1;36m0\u001b[0m. \u001b[1;36m0\u001b[0m. \u001b[1;36m0\u001b[0m. \u001b[1;36m0\u001b[0m.\u001b[1m]\u001b[0m\n",
              " \u001b[1m[\u001b[0m\u001b[1;36m0\u001b[0m. \u001b[1;36m0\u001b[0m. \u001b[1;36m0\u001b[0m. \u001b[1;36m0\u001b[0m.\u001b[1m]\u001b[0m\n",
              " \u001b[1m[\u001b[0m\u001b[1;36m0\u001b[0m. \u001b[1;36m0\u001b[0m. \u001b[1;36m0\u001b[0m. \u001b[1;36m0\u001b[0m.\u001b[1m]\u001b[0m\u001b[1m]\u001b[0m\n"
            ],
            "text/html": [
              "<pre style=\"white-space:pre;overflow-x:auto;line-height:normal;font-family:Menlo,'DejaVu Sans Mono',consolas,'Courier New',monospace\"><span style=\"font-weight: bold\">[[</span><span style=\"color: #008080; text-decoration-color: #008080; font-weight: bold\">0</span>. <span style=\"color: #008080; text-decoration-color: #008080; font-weight: bold\">0</span>. <span style=\"color: #008080; text-decoration-color: #008080; font-weight: bold\">0</span>. <span style=\"color: #008080; text-decoration-color: #008080; font-weight: bold\">0</span>.<span style=\"font-weight: bold\">]</span>\n",
              " <span style=\"font-weight: bold\">[</span><span style=\"color: #008080; text-decoration-color: #008080; font-weight: bold\">0</span>. <span style=\"color: #008080; text-decoration-color: #008080; font-weight: bold\">0</span>. <span style=\"color: #008080; text-decoration-color: #008080; font-weight: bold\">0</span>. <span style=\"color: #008080; text-decoration-color: #008080; font-weight: bold\">0</span>.<span style=\"font-weight: bold\">]</span>\n",
              " <span style=\"font-weight: bold\">[</span><span style=\"color: #008080; text-decoration-color: #008080; font-weight: bold\">0</span>. <span style=\"color: #008080; text-decoration-color: #008080; font-weight: bold\">0</span>. <span style=\"color: #008080; text-decoration-color: #008080; font-weight: bold\">0</span>. <span style=\"color: #008080; text-decoration-color: #008080; font-weight: bold\">0</span>.<span style=\"font-weight: bold\">]</span>\n",
              " <span style=\"font-weight: bold\">[</span><span style=\"color: #008080; text-decoration-color: #008080; font-weight: bold\">0</span>. <span style=\"color: #008080; text-decoration-color: #008080; font-weight: bold\">0</span>. <span style=\"color: #008080; text-decoration-color: #008080; font-weight: bold\">0</span>. <span style=\"color: #008080; text-decoration-color: #008080; font-weight: bold\">0</span>.<span style=\"font-weight: bold\">]]</span>\n",
              "</pre>\n"
            ]
          },
          "metadata": {}
        },
        {
          "output_type": "display_data",
          "data": {
            "text/plain": [
              "\u001b[1m[\u001b[0m\u001b[1m[\u001b[0m\u001b[1;36m0\u001b[0m. \u001b[1;36m0\u001b[0m. \u001b[1;36m0\u001b[0m. \u001b[1;36m0\u001b[0m.\u001b[1m]\u001b[0m\n",
              " \u001b[1m[\u001b[0m\u001b[1;36m0\u001b[0m. \u001b[1;36m0\u001b[0m. \u001b[1;36m0\u001b[0m. \u001b[1;36m0\u001b[0m.\u001b[1m]\u001b[0m\n",
              " \u001b[1m[\u001b[0m\u001b[1;36m0\u001b[0m. \u001b[1;36m0\u001b[0m. \u001b[1;36m0\u001b[0m. \u001b[1;36m0\u001b[0m.\u001b[1m]\u001b[0m\n",
              " \u001b[1m[\u001b[0m\u001b[1;36m0\u001b[0m. \u001b[1;36m0\u001b[0m. \u001b[1;36m0\u001b[0m. \u001b[1;36m1\u001b[0m.\u001b[1m]\u001b[0m\u001b[1m]\u001b[0m\n"
            ],
            "text/html": [
              "<pre style=\"white-space:pre;overflow-x:auto;line-height:normal;font-family:Menlo,'DejaVu Sans Mono',consolas,'Courier New',monospace\"><span style=\"font-weight: bold\">[[</span><span style=\"color: #008080; text-decoration-color: #008080; font-weight: bold\">0</span>. <span style=\"color: #008080; text-decoration-color: #008080; font-weight: bold\">0</span>. <span style=\"color: #008080; text-decoration-color: #008080; font-weight: bold\">0</span>. <span style=\"color: #008080; text-decoration-color: #008080; font-weight: bold\">0</span>.<span style=\"font-weight: bold\">]</span>\n",
              " <span style=\"font-weight: bold\">[</span><span style=\"color: #008080; text-decoration-color: #008080; font-weight: bold\">0</span>. <span style=\"color: #008080; text-decoration-color: #008080; font-weight: bold\">0</span>. <span style=\"color: #008080; text-decoration-color: #008080; font-weight: bold\">0</span>. <span style=\"color: #008080; text-decoration-color: #008080; font-weight: bold\">0</span>.<span style=\"font-weight: bold\">]</span>\n",
              " <span style=\"font-weight: bold\">[</span><span style=\"color: #008080; text-decoration-color: #008080; font-weight: bold\">0</span>. <span style=\"color: #008080; text-decoration-color: #008080; font-weight: bold\">0</span>. <span style=\"color: #008080; text-decoration-color: #008080; font-weight: bold\">0</span>. <span style=\"color: #008080; text-decoration-color: #008080; font-weight: bold\">0</span>.<span style=\"font-weight: bold\">]</span>\n",
              " <span style=\"font-weight: bold\">[</span><span style=\"color: #008080; text-decoration-color: #008080; font-weight: bold\">0</span>. <span style=\"color: #008080; text-decoration-color: #008080; font-weight: bold\">0</span>. <span style=\"color: #008080; text-decoration-color: #008080; font-weight: bold\">0</span>. <span style=\"color: #008080; text-decoration-color: #008080; font-weight: bold\">1</span>.<span style=\"font-weight: bold\">]]</span>\n",
              "</pre>\n"
            ]
          },
          "metadata": {}
        },
        {
          "output_type": "display_data",
          "data": {
            "text/plain": [
              "\u001b[1;38;2;138;66;54m[\u001b[0m\u001b[1;38;2;138;66;54m[\u001b[0m\u001b[1;38;2;138;66;54m0\u001b[0m\u001b[38;2;138;66;54m. \u001b[0m\u001b[1;38;2;138;66;54m0\u001b[0m\u001b[38;2;138;66;54m. \u001b[0m\u001b[1;38;2;138;66;54m0\u001b[0m\u001b[38;2;138;66;54m. \u001b[0m\u001b[1;38;2;138;66;54m0\u001b[0m\u001b[38;2;138;66;54m.\u001b[0m\u001b[1;38;2;138;66;54m]\u001b[0m\n",
              "\u001b[38;2;138;66;54m \u001b[0m\u001b[1;38;2;138;66;54m[\u001b[0m\u001b[1;38;2;138;66;54m0\u001b[0m\u001b[38;2;138;66;54m. \u001b[0m\u001b[1;38;2;138;66;54m0\u001b[0m\u001b[38;2;138;66;54m. \u001b[0m\u001b[1;38;2;138;66;54m0\u001b[0m\u001b[38;2;138;66;54m. \u001b[0m\u001b[1;38;2;138;66;54m0\u001b[0m\u001b[38;2;138;66;54m.\u001b[0m\u001b[1;38;2;138;66;54m]\u001b[0m\n",
              "\u001b[38;2;138;66;54m \u001b[0m\u001b[1;38;2;138;66;54m[\u001b[0m\u001b[1;38;2;138;66;54m0\u001b[0m\u001b[38;2;138;66;54m. \u001b[0m\u001b[1;38;2;138;66;54m0\u001b[0m\u001b[38;2;138;66;54m. \u001b[0m\u001b[1;38;2;138;66;54m0\u001b[0m\u001b[38;2;138;66;54m. \u001b[0m\u001b[1;38;2;138;66;54m0\u001b[0m\u001b[38;2;138;66;54m.\u001b[0m\u001b[1;38;2;138;66;54m]\u001b[0m\n",
              "\u001b[38;2;138;66;54m \u001b[0m\u001b[1;38;2;138;66;54m[\u001b[0m\u001b[1;38;2;138;66;54m0\u001b[0m\u001b[38;2;138;66;54m. \u001b[0m\u001b[1;38;2;138;66;54m0\u001b[0m\u001b[38;2;138;66;54m. \u001b[0m\u001b[1;38;2;138;66;54m0\u001b[0m\u001b[38;2;138;66;54m. \u001b[0m\u001b[1;38;2;138;66;54m1\u001b[0m\u001b[38;2;138;66;54m.\u001b[0m\u001b[1;38;2;138;66;54m]\u001b[0m\u001b[1;38;2;138;66;54m]\u001b[0m\n"
            ],
            "text/html": [
              "<pre style=\"white-space:pre;overflow-x:auto;line-height:normal;font-family:Menlo,'DejaVu Sans Mono',consolas,'Courier New',monospace\"><span style=\"color: #8a4236; text-decoration-color: #8a4236; font-weight: bold\">[[</span><span style=\"color: #8a4236; text-decoration-color: #8a4236; font-weight: bold\">0</span><span style=\"color: #8a4236; text-decoration-color: #8a4236\">. </span><span style=\"color: #8a4236; text-decoration-color: #8a4236; font-weight: bold\">0</span><span style=\"color: #8a4236; text-decoration-color: #8a4236\">. </span><span style=\"color: #8a4236; text-decoration-color: #8a4236; font-weight: bold\">0</span><span style=\"color: #8a4236; text-decoration-color: #8a4236\">. </span><span style=\"color: #8a4236; text-decoration-color: #8a4236; font-weight: bold\">0</span><span style=\"color: #8a4236; text-decoration-color: #8a4236\">.</span><span style=\"color: #8a4236; text-decoration-color: #8a4236; font-weight: bold\">]</span>\n",
              "<span style=\"color: #8a4236; text-decoration-color: #8a4236\"> </span><span style=\"color: #8a4236; text-decoration-color: #8a4236; font-weight: bold\">[</span><span style=\"color: #8a4236; text-decoration-color: #8a4236; font-weight: bold\">0</span><span style=\"color: #8a4236; text-decoration-color: #8a4236\">. </span><span style=\"color: #8a4236; text-decoration-color: #8a4236; font-weight: bold\">0</span><span style=\"color: #8a4236; text-decoration-color: #8a4236\">. </span><span style=\"color: #8a4236; text-decoration-color: #8a4236; font-weight: bold\">0</span><span style=\"color: #8a4236; text-decoration-color: #8a4236\">. </span><span style=\"color: #8a4236; text-decoration-color: #8a4236; font-weight: bold\">0</span><span style=\"color: #8a4236; text-decoration-color: #8a4236\">.</span><span style=\"color: #8a4236; text-decoration-color: #8a4236; font-weight: bold\">]</span>\n",
              "<span style=\"color: #8a4236; text-decoration-color: #8a4236\"> </span><span style=\"color: #8a4236; text-decoration-color: #8a4236; font-weight: bold\">[</span><span style=\"color: #8a4236; text-decoration-color: #8a4236; font-weight: bold\">0</span><span style=\"color: #8a4236; text-decoration-color: #8a4236\">. </span><span style=\"color: #8a4236; text-decoration-color: #8a4236; font-weight: bold\">0</span><span style=\"color: #8a4236; text-decoration-color: #8a4236\">. </span><span style=\"color: #8a4236; text-decoration-color: #8a4236; font-weight: bold\">0</span><span style=\"color: #8a4236; text-decoration-color: #8a4236\">. </span><span style=\"color: #8a4236; text-decoration-color: #8a4236; font-weight: bold\">0</span><span style=\"color: #8a4236; text-decoration-color: #8a4236\">.</span><span style=\"color: #8a4236; text-decoration-color: #8a4236; font-weight: bold\">]</span>\n",
              "<span style=\"color: #8a4236; text-decoration-color: #8a4236\"> </span><span style=\"color: #8a4236; text-decoration-color: #8a4236; font-weight: bold\">[</span><span style=\"color: #8a4236; text-decoration-color: #8a4236; font-weight: bold\">0</span><span style=\"color: #8a4236; text-decoration-color: #8a4236\">. </span><span style=\"color: #8a4236; text-decoration-color: #8a4236; font-weight: bold\">0</span><span style=\"color: #8a4236; text-decoration-color: #8a4236\">. </span><span style=\"color: #8a4236; text-decoration-color: #8a4236; font-weight: bold\">0</span><span style=\"color: #8a4236; text-decoration-color: #8a4236\">. </span><span style=\"color: #8a4236; text-decoration-color: #8a4236; font-weight: bold\">1</span><span style=\"color: #8a4236; text-decoration-color: #8a4236\">.</span><span style=\"color: #8a4236; text-decoration-color: #8a4236; font-weight: bold\">]]</span>\n",
              "</pre>\n"
            ]
          },
          "metadata": {}
        },
        {
          "output_type": "display_data",
          "data": {
            "text/plain": [
              "\u001b[1;38;2;34;17;46m[\u001b[0m\u001b[1;38;2;34;17;46m[\u001b[0m\u001b[1;38;2;34;17;46m1\u001b[0m\u001b[38;2;34;17;46m. \u001b[0m\u001b[1;38;2;34;17;46m0\u001b[0m\u001b[38;2;34;17;46m. \u001b[0m\u001b[1;38;2;34;17;46m0\u001b[0m\u001b[38;2;34;17;46m. \u001b[0m\u001b[1;38;2;34;17;46m0\u001b[0m\u001b[38;2;34;17;46m.\u001b[0m\u001b[1;38;2;34;17;46m]\u001b[0m\n",
              "\u001b[38;2;34;17;46m \u001b[0m\u001b[1;38;2;34;17;46m[\u001b[0m\u001b[1;38;2;34;17;46m1\u001b[0m\u001b[38;2;34;17;46m. \u001b[0m\u001b[1;38;2;34;17;46m1\u001b[0m\u001b[38;2;34;17;46m. \u001b[0m\u001b[1;38;2;34;17;46m0\u001b[0m\u001b[38;2;34;17;46m. \u001b[0m\u001b[1;38;2;34;17;46m0\u001b[0m\u001b[38;2;34;17;46m.\u001b[0m\u001b[1;38;2;34;17;46m]\u001b[0m\n",
              "\u001b[38;2;34;17;46m \u001b[0m\u001b[1;38;2;34;17;46m[\u001b[0m\u001b[1;38;2;34;17;46m1\u001b[0m\u001b[38;2;34;17;46m. \u001b[0m\u001b[1;38;2;34;17;46m1\u001b[0m\u001b[38;2;34;17;46m. \u001b[0m\u001b[1;38;2;34;17;46m1\u001b[0m\u001b[38;2;34;17;46m. \u001b[0m\u001b[1;38;2;34;17;46m0\u001b[0m\u001b[38;2;34;17;46m.\u001b[0m\u001b[1;38;2;34;17;46m]\u001b[0m\n",
              "\u001b[38;2;34;17;46m \u001b[0m\u001b[1;38;2;34;17;46m[\u001b[0m\u001b[1;38;2;34;17;46m1\u001b[0m\u001b[38;2;34;17;46m. \u001b[0m\u001b[1;38;2;34;17;46m1\u001b[0m\u001b[38;2;34;17;46m. \u001b[0m\u001b[1;38;2;34;17;46m1\u001b[0m\u001b[38;2;34;17;46m. \u001b[0m\u001b[1;38;2;34;17;46m1\u001b[0m\u001b[38;2;34;17;46m.\u001b[0m\u001b[1;38;2;34;17;46m]\u001b[0m\u001b[1;38;2;34;17;46m]\u001b[0m\n"
            ],
            "text/html": [
              "<pre style=\"white-space:pre;overflow-x:auto;line-height:normal;font-family:Menlo,'DejaVu Sans Mono',consolas,'Courier New',monospace\"><span style=\"color: #22112e; text-decoration-color: #22112e; font-weight: bold\">[[</span><span style=\"color: #22112e; text-decoration-color: #22112e; font-weight: bold\">1</span><span style=\"color: #22112e; text-decoration-color: #22112e\">. </span><span style=\"color: #22112e; text-decoration-color: #22112e; font-weight: bold\">0</span><span style=\"color: #22112e; text-decoration-color: #22112e\">. </span><span style=\"color: #22112e; text-decoration-color: #22112e; font-weight: bold\">0</span><span style=\"color: #22112e; text-decoration-color: #22112e\">. </span><span style=\"color: #22112e; text-decoration-color: #22112e; font-weight: bold\">0</span><span style=\"color: #22112e; text-decoration-color: #22112e\">.</span><span style=\"color: #22112e; text-decoration-color: #22112e; font-weight: bold\">]</span>\n",
              "<span style=\"color: #22112e; text-decoration-color: #22112e\"> </span><span style=\"color: #22112e; text-decoration-color: #22112e; font-weight: bold\">[</span><span style=\"color: #22112e; text-decoration-color: #22112e; font-weight: bold\">1</span><span style=\"color: #22112e; text-decoration-color: #22112e\">. </span><span style=\"color: #22112e; text-decoration-color: #22112e; font-weight: bold\">1</span><span style=\"color: #22112e; text-decoration-color: #22112e\">. </span><span style=\"color: #22112e; text-decoration-color: #22112e; font-weight: bold\">0</span><span style=\"color: #22112e; text-decoration-color: #22112e\">. </span><span style=\"color: #22112e; text-decoration-color: #22112e; font-weight: bold\">0</span><span style=\"color: #22112e; text-decoration-color: #22112e\">.</span><span style=\"color: #22112e; text-decoration-color: #22112e; font-weight: bold\">]</span>\n",
              "<span style=\"color: #22112e; text-decoration-color: #22112e\"> </span><span style=\"color: #22112e; text-decoration-color: #22112e; font-weight: bold\">[</span><span style=\"color: #22112e; text-decoration-color: #22112e; font-weight: bold\">1</span><span style=\"color: #22112e; text-decoration-color: #22112e\">. </span><span style=\"color: #22112e; text-decoration-color: #22112e; font-weight: bold\">1</span><span style=\"color: #22112e; text-decoration-color: #22112e\">. </span><span style=\"color: #22112e; text-decoration-color: #22112e; font-weight: bold\">1</span><span style=\"color: #22112e; text-decoration-color: #22112e\">. </span><span style=\"color: #22112e; text-decoration-color: #22112e; font-weight: bold\">0</span><span style=\"color: #22112e; text-decoration-color: #22112e\">.</span><span style=\"color: #22112e; text-decoration-color: #22112e; font-weight: bold\">]</span>\n",
              "<span style=\"color: #22112e; text-decoration-color: #22112e\"> </span><span style=\"color: #22112e; text-decoration-color: #22112e; font-weight: bold\">[</span><span style=\"color: #22112e; text-decoration-color: #22112e; font-weight: bold\">1</span><span style=\"color: #22112e; text-decoration-color: #22112e\">. </span><span style=\"color: #22112e; text-decoration-color: #22112e; font-weight: bold\">1</span><span style=\"color: #22112e; text-decoration-color: #22112e\">. </span><span style=\"color: #22112e; text-decoration-color: #22112e; font-weight: bold\">1</span><span style=\"color: #22112e; text-decoration-color: #22112e\">. </span><span style=\"color: #22112e; text-decoration-color: #22112e; font-weight: bold\">1</span><span style=\"color: #22112e; text-decoration-color: #22112e\">.</span><span style=\"color: #22112e; text-decoration-color: #22112e; font-weight: bold\">]]</span>\n",
              "</pre>\n"
            ]
          },
          "metadata": {}
        }
      ]
    }
  ]
}